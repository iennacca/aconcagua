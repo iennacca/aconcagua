{
 "cells": [
  {
   "cell_type": "code",
   "execution_count": 1,
   "metadata": {
    "collapsed": true
   },
   "outputs": [],
   "source": [
    "import pickle\n",
    "import pandas as pd\n",
    "import matplotlib.pyplot as plt"
   ]
  },
  {
   "cell_type": "code",
   "execution_count": 2,
   "metadata": {
    "collapsed": true
   },
   "outputs": [],
   "source": [
    "# getting data set from pickle --------------------------------\n",
    "df = pd.read_pickle('c:\\\\Users\\\\Jerry\\\\Projects\\\\aconcagua\\\\data\\\\sample.pkl')"
   ]
  },
  {
   "cell_type": "code",
   "execution_count": 3,
   "metadata": {
    "collapsed": true
   },
   "outputs": [],
   "source": [
    "# get list of series\n",
    "s = df['series'].tolist()"
   ]
  },
  {
   "cell_type": "code",
   "execution_count": 4,
   "metadata": {
    "collapsed": true
   },
   "outputs": [],
   "source": [
    "# get series + annual data\n",
    "pdf = df[['series'] + [c for c in df.columns if c[0].isdigit() and 'A' in c]]\n",
    "\n",
    "# reshape data\n",
    "pdf = pdf.T\n",
    "pdf = pdf.reset_index()\n",
    "\n",
    "#change the column names\n",
    "pdf.columns = ['series'] + df['series'].tolist()\n",
    "pdf.rename(index=str, columns={\"series\": \"label\"})\n",
    "\n",
    "#drop the series row\n",
    "pdf = pdf.drop(pdf.index[pdf['series'] == 'series'])"
   ]
  },
  {
   "cell_type": "code",
   "execution_count": 5,
   "metadata": {},
   "outputs": [
    {
     "data": {
      "image/png": "[encoded data removed]",
      "text/plain": [
       "<matplotlib.figure.Figure at 0x2474fd723c8>"
      ]
     },
     "metadata": {},
     "output_type": "display_data"
    }
   ],
   "source": [
    "# plot and show graph\n",
    "pdf.plot(y=s)\n",
    "plt.show()"
   ]
  },
  {
   "cell_type": "code",
   "execution_count": null,
   "metadata": {
    "collapsed": true
   },
   "outputs": [],
   "source": []
  }
 ],
 "metadata": {
  "kernelspec": {
   "display_name": "Python 3",
   "language": "python",
   "name": "python3"
  },
  "language_info": {
   "codemirror_mode": {
    "name": "ipython",
    "version": 3
   },
   "file_extension": ".py",
   "mimetype": "text/x-python",
   "name": "python",
   "nbconvert_exporter": "python",
   "pygments_lexer": "ipython3",
   "version": "3.6.2"
  }
 },
 "nbformat": 4,
 "nbformat_minor": 2
}
